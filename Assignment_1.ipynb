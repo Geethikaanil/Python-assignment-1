{
  "nbformat": 4,
  "nbformat_minor": 0,
  "metadata": {
    "colab": {
      "name": "Assignment 1.ipynb",
      "provenance": [],
      "collapsed_sections": [],
      "authorship_tag": "ABX9TyNnfbQyYdSiy4l8+nUTQDug",
      "include_colab_link": true
    },
    "kernelspec": {
      "name": "python3",
      "display_name": "Python 3"
    }
  },
  "cells": [
    {
      "cell_type": "markdown",
      "metadata": {
        "id": "view-in-github",
        "colab_type": "text"
      },
      "source": [
        "<a href=\"https://colab.research.google.com/github/Geethikaanil/Python-assignment-1/blob/main/Assignment_1.ipynb\" target=\"_parent\"><img src=\"https://colab.research.google.com/assets/colab-badge.svg\" alt=\"Open In Colab\"/></a>"
      ]
    },
    {
      "cell_type": "markdown",
      "metadata": {
        "id": "bAIhfy-hooH0"
      },
      "source": [
        "Question 1"
      ]
    },
    {
      "cell_type": "code",
      "metadata": {
        "colab": {
          "base_uri": "https://localhost:8080/"
        },
        "id": "QKXrdQFNH0sy",
        "outputId": "52c55a83-5924-4edd-c539-c28b820d7d61"
      },
      "source": [
        "name=\"geethika anil\"\n",
        "name.index(\"k\")"
      ],
      "execution_count": null,
      "outputs": [
        {
          "output_type": "execute_result",
          "data": {
            "text/plain": [
              "6"
            ]
          },
          "metadata": {
            "tags": []
          },
          "execution_count": 10
        }
      ]
    },
    {
      "cell_type": "code",
      "metadata": {
        "colab": {
          "base_uri": "https://localhost:8080/"
        },
        "id": "6F02vlRBI70h",
        "outputId": "703d59f3-9309-490f-b82b-a82f7ede69e7"
      },
      "source": [
        "name.count(\"e\")"
      ],
      "execution_count": null,
      "outputs": [
        {
          "output_type": "execute_result",
          "data": {
            "text/plain": [
              "2"
            ]
          },
          "metadata": {
            "tags": []
          },
          "execution_count": 11
        }
      ]
    },
    {
      "cell_type": "code",
      "metadata": {
        "colab": {
          "base_uri": "https://localhost:8080/"
        },
        "id": "EHPDsm7qJemo",
        "outputId": "6adbc8dd-6d5c-49b8-ed3e-e4f6f30feabc"
      },
      "source": [
        "name.find(\"n\")"
      ],
      "execution_count": null,
      "outputs": [
        {
          "output_type": "execute_result",
          "data": {
            "text/plain": [
              "10"
            ]
          },
          "metadata": {
            "tags": []
          },
          "execution_count": 12
        }
      ]
    },
    {
      "cell_type": "code",
      "metadata": {
        "colab": {
          "base_uri": "https://localhost:8080/",
          "height": 35
        },
        "id": "B0ddsm1pJmP_",
        "outputId": "bd2f2abf-3971-4605-a588-ed684d148d99"
      },
      "source": [
        "name.capitalize()"
      ],
      "execution_count": null,
      "outputs": [
        {
          "output_type": "execute_result",
          "data": {
            "application/vnd.google.colaboratory.intrinsic+json": {
              "type": "string"
            },
            "text/plain": [
              "'Geethika anil'"
            ]
          },
          "metadata": {
            "tags": []
          },
          "execution_count": 14
        }
      ]
    },
    {
      "cell_type": "code",
      "metadata": {
        "colab": {
          "base_uri": "https://localhost:8080/",
          "height": 35
        },
        "id": "tTOAOrVFJzqe",
        "outputId": "76215397-5b34-4b8b-b87b-6c66dd8841d5"
      },
      "source": [
        "name.casefold()"
      ],
      "execution_count": null,
      "outputs": [
        {
          "output_type": "execute_result",
          "data": {
            "application/vnd.google.colaboratory.intrinsic+json": {
              "type": "string"
            },
            "text/plain": [
              "'geethika anil'"
            ]
          },
          "metadata": {
            "tags": []
          },
          "execution_count": 19
        }
      ]
    },
    {
      "cell_type": "code",
      "metadata": {
        "colab": {
          "base_uri": "https://localhost:8080/"
        },
        "id": "29yzKF9KKgAt",
        "outputId": "ff96eb76-2ac7-47e3-f5f8-ed64fdea186e"
      },
      "source": [
        "name.isupper()"
      ],
      "execution_count": null,
      "outputs": [
        {
          "output_type": "execute_result",
          "data": {
            "text/plain": [
              "False"
            ]
          },
          "metadata": {
            "tags": []
          },
          "execution_count": 20
        }
      ]
    },
    {
      "cell_type": "markdown",
      "metadata": {
        "id": "OOza-m7yovhR"
      },
      "source": [
        "Question 2"
      ]
    },
    {
      "cell_type": "code",
      "metadata": {
        "id": "ol3Iss_rox8c"
      },
      "source": [
        " lst=[1,34,56,\"abc\",\"pqr\",\"afh\",5.7,8.5,[3,7,\"Geethu\",7.8],74]"
      ],
      "execution_count": null,
      "outputs": []
    },
    {
      "cell_type": "code",
      "metadata": {
        "colab": {
          "base_uri": "https://localhost:8080/"
        },
        "id": "w14ybP8Xp-kJ",
        "outputId": "82d87b4d-1040-406b-c63b-d125f580484e"
      },
      "source": [
        "type (lst)"
      ],
      "execution_count": null,
      "outputs": [
        {
          "output_type": "execute_result",
          "data": {
            "text/plain": [
              "list"
            ]
          },
          "metadata": {
            "tags": []
          },
          "execution_count": 3
        }
      ]
    },
    {
      "cell_type": "code",
      "metadata": {
        "colab": {
          "base_uri": "https://localhost:8080/"
        },
        "id": "R_zaMPD0qCN5",
        "outputId": "ca24a98e-3a66-4faf-bbf3-3234c7e3b591"
      },
      "source": [
        "lst[7]"
      ],
      "execution_count": null,
      "outputs": [
        {
          "output_type": "execute_result",
          "data": {
            "text/plain": [
              "8.5"
            ]
          },
          "metadata": {
            "tags": []
          },
          "execution_count": 4
        }
      ]
    },
    {
      "cell_type": "code",
      "metadata": {
        "id": "4DOiTy8bqHQ0",
        "colab": {
          "base_uri": "https://localhost:8080/"
        },
        "outputId": "ceae17b5-0a8d-4ef5-94f2-7fe34fad73ba"
      },
      "source": [
        "lst[-2]"
      ],
      "execution_count": null,
      "outputs": [
        {
          "output_type": "execute_result",
          "data": {
            "text/plain": [
              "[3, 7, 'Geethu', 7.8]"
            ]
          },
          "metadata": {
            "tags": []
          },
          "execution_count": 5
        }
      ]
    },
    {
      "cell_type": "code",
      "metadata": {
        "id": "6OvJm9XvqWUA",
        "colab": {
          "base_uri": "https://localhost:8080/"
        },
        "outputId": "4fb14c0b-5664-41d5-c438-12d03189e1db"
      },
      "source": [
        "lst[-3]"
      ],
      "execution_count": null,
      "outputs": [
        {
          "output_type": "execute_result",
          "data": {
            "text/plain": [
              "8.5"
            ]
          },
          "metadata": {
            "tags": []
          },
          "execution_count": 6
        }
      ]
    },
    {
      "cell_type": "code",
      "metadata": {
        "id": "6dgZjSCEqb6E",
        "colab": {
          "base_uri": "https://localhost:8080/"
        },
        "outputId": "46dd7fdd-1292-42f6-9068-ba2a36c01669"
      },
      "source": [
        "lst[-2][-3]"
      ],
      "execution_count": null,
      "outputs": [
        {
          "output_type": "execute_result",
          "data": {
            "text/plain": [
              "7"
            ]
          },
          "metadata": {
            "tags": []
          },
          "execution_count": 7
        }
      ]
    },
    {
      "cell_type": "markdown",
      "metadata": {
        "id": "QCzMajYcqpqA"
      },
      "source": [
        "Question 3"
      ]
    },
    {
      "cell_type": "code",
      "metadata": {
        "id": "UVwTiYRMqsgn"
      },
      "source": [
        "Dict={\"bird\":\"dove\",\"fruit\":\"apple\",\"boy\":\"Roy\",\"girl\":\"ann\"}"
      ],
      "execution_count": null,
      "outputs": []
    },
    {
      "cell_type": "code",
      "metadata": {
        "id": "3BwvFDnGrRmP",
        "colab": {
          "base_uri": "https://localhost:8080/"
        },
        "outputId": "825a1812-7fde-46fc-babd-b43e5fb7ffe1"
      },
      "source": [
        "Dict"
      ],
      "execution_count": 3,
      "outputs": [
        {
          "output_type": "execute_result",
          "data": {
            "text/plain": [
              "{'bird': 'dove', 'boy': 'Roy', 'fruit': 'apple', 'girl': 'ann'}"
            ]
          },
          "metadata": {
            "tags": []
          },
          "execution_count": 3
        }
      ]
    },
    {
      "cell_type": "code",
      "metadata": {
        "colab": {
          "base_uri": "https://localhost:8080/",
          "height": 35
        },
        "id": "rj2J7VpuroAv",
        "outputId": "7dc52741-c412-4fd1-a2fd-f473ac231389"
      },
      "source": [
        "Dict.get(\"bird\")"
      ],
      "execution_count": 4,
      "outputs": [
        {
          "output_type": "execute_result",
          "data": {
            "application/vnd.google.colaboratory.intrinsic+json": {
              "type": "string"
            },
            "text/plain": [
              "'dove'"
            ]
          },
          "metadata": {
            "tags": []
          },
          "execution_count": 4
        }
      ]
    },
    {
      "cell_type": "code",
      "metadata": {
        "colab": {
          "base_uri": "https://localhost:8080/"
        },
        "id": "8XQChkRgrtZ0",
        "outputId": "2231976b-c3ec-4898-80a2-74650f96bb74"
      },
      "source": [
        "Dict.items()"
      ],
      "execution_count": 5,
      "outputs": [
        {
          "output_type": "execute_result",
          "data": {
            "text/plain": [
              "dict_items([('bird', 'dove'), ('fruit', 'apple'), ('boy', 'Roy'), ('girl', 'ann')])"
            ]
          },
          "metadata": {
            "tags": []
          },
          "execution_count": 5
        }
      ]
    },
    {
      "cell_type": "code",
      "metadata": {
        "colab": {
          "base_uri": "https://localhost:8080/"
        },
        "id": "odQeoxQnryzy",
        "outputId": "aae55303-7331-4924-f764-466ab8204d7f"
      },
      "source": [
        "Dict.keys()"
      ],
      "execution_count": 6,
      "outputs": [
        {
          "output_type": "execute_result",
          "data": {
            "text/plain": [
              "dict_keys(['bird', 'fruit', 'boy', 'girl'])"
            ]
          },
          "metadata": {
            "tags": []
          },
          "execution_count": 6
        }
      ]
    },
    {
      "cell_type": "code",
      "metadata": {
        "colab": {
          "base_uri": "https://localhost:8080/",
          "height": 35
        },
        "id": "_lEvqmHFr354",
        "outputId": "6964f700-9610-4e89-f81c-5523d3bf7846"
      },
      "source": [
        "Dict.pop(\"fruit\")"
      ],
      "execution_count": 7,
      "outputs": [
        {
          "output_type": "execute_result",
          "data": {
            "application/vnd.google.colaboratory.intrinsic+json": {
              "type": "string"
            },
            "text/plain": [
              "'apple'"
            ]
          },
          "metadata": {
            "tags": []
          },
          "execution_count": 7
        }
      ]
    },
    {
      "cell_type": "code",
      "metadata": {
        "colab": {
          "base_uri": "https://localhost:8080/"
        },
        "id": "FGDA_HpQr-8i",
        "outputId": "ace03c92-58ab-4f1f-e1bb-18a4ddff7894"
      },
      "source": [
        "Dict"
      ],
      "execution_count": 8,
      "outputs": [
        {
          "output_type": "execute_result",
          "data": {
            "text/plain": [
              "{'bird': 'dove', 'boy': 'Roy', 'girl': 'ann'}"
            ]
          },
          "metadata": {
            "tags": []
          },
          "execution_count": 8
        }
      ]
    }
  ]
}